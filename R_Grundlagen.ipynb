{
 "cells": [
  {
   "cell_type": "markdown",
   "metadata": {},
   "source": [
    "# R Grundlagen\n",
    "Die folgende Darstellung basiert in weiten Teilen auf dem Buch [Programmieren mit R](http://www.statistik.uni-dortmund.de/~ligges/PmitR/) von Uwe Ligges. Aber auch das [R Data Visualization Cookbook](https://www.packtpub.com/big-data-and-business-intelligence/r-data-visualization-cookbook) wurde herangezogen.\n",
    "\n",
    "Die wichtigste Informationsquelle ist sicherlich die [Website des R-Projekts](https://www.r-project.org/). Allerdings gibt es zahlreiche weitere Informationsquellen wie etwa die [R-Bloggers](https://www.r-bloggers.com/). Unzählige Ressourcen zu __R__ finden sich im [`C`omprehensive `R A`rchive `N`etwork (CRAN)](https://cran.r-project.org/). "
   ]
  },
  {
   "cell_type": "markdown",
   "metadata": {},
   "source": [
    "## R als Taschenrechner"
   ]
  },
  {
   "cell_type": "code",
   "execution_count": null,
   "metadata": {},
   "outputs": [],
   "source": [
    "2+4*5"
   ]
  },
  {
   "cell_type": "code",
   "execution_count": null,
   "metadata": {},
   "outputs": [],
   "source": [
    "4*3^2-6*6  # hier sollte 0 raus kommen (wichtiger Kommentar!)"
   ]
  },
  {
   "cell_type": "markdown",
   "metadata": {},
   "source": [
    "**Punkt vor Strich** wird also beachtet!"
   ]
  },
  {
   "cell_type": "code",
   "execution_count": null,
   "metadata": {},
   "outputs": [],
   "source": [
    "2*cos(pi)"
   ]
  },
  {
   "cell_type": "code",
   "execution_count": null,
   "metadata": {},
   "outputs": [],
   "source": [
    "?tan"
   ]
  },
  {
   "cell_type": "markdown",
   "metadata": {},
   "source": [
    "$\\cos()$ und $\\tan()$ sind **eingebaute Funktionen**. Eine Überischt über vorhandene eingebaute Funktionen erhält man zum Beispiel auf der [Referenzkatrte bei CRAN](https://cran.r-project.org/doc/contrib/Short-refcard.pdf). *Hilfe* zu speziellen Funktionen erhält man interaktiv durch ein *vorangestelltes Fragezeichen*."
   ]
  },
  {
   "cell_type": "code",
   "execution_count": null,
   "metadata": {},
   "outputs": [],
   "source": [
    "-1/0  # negativ unendlich"
   ]
  },
  {
   "cell_type": "code",
   "execution_count": null,
   "metadata": {},
   "outputs": [],
   "source": [
    "1/0  # positiv unendlich"
   ]
  },
  {
   "cell_type": "code",
   "execution_count": null,
   "metadata": {},
   "outputs": [],
   "source": [
    "0/0  # undefiniert (Not a Number)"
   ]
  },
  {
   "cell_type": "markdown",
   "metadata": {},
   "source": [
    "Es gibt also in R *spezielle Werte* für $+/- \\infty$ oder undefinierte Größen!"
   ]
  },
  {
   "cell_type": "markdown",
   "metadata": {},
   "source": [
    "## Stilfragen\n",
    "Allgemein empfiehlt sich die Einhaltung von *Guidelines* wie etwa die von [Google](https://google.github.io/styleguide/Rguide.xml) zusammen getragenen."
   ]
  },
  {
   "cell_type": "markdown",
   "metadata": {},
   "source": [
    "### Zuweisungen in R\n",
    "Hierfür gibt es verschiedene Möglichkeiten. Welche man verwendet ist eine Frage des **Stils** (s.o.), wobei Einiges für den klassischen Stil mit Hilfe des *Zuweisungspfeils* spricht. "
   ]
  },
  {
   "cell_type": "code",
   "execution_count": null,
   "metadata": {},
   "outputs": [],
   "source": [
    "x <- pi  # der Variablen x den Wert von Pi zuweisen (empfohlener klassischer R-Stil)\n",
    "x"
   ]
  },
  {
   "cell_type": "code",
   "execution_count": null,
   "metadata": {},
   "outputs": [],
   "source": [
    "x = exp(1)  # der Variablen x den Wert von e zuweisen (möglicher neuerer R-Stil)\n",
    "x"
   ]
  },
  {
   "cell_type": "code",
   "execution_count": null,
   "metadata": {},
   "outputs": [],
   "source": [
    "sin(pi) -> x  # der Variablen x den Wert von 0 zuweisen (NICHT ZU EMPFEHLEN, sowohl der Stil, als auch der Weg ...)\n",
    "x"
   ]
  },
  {
   "cell_type": "markdown",
   "metadata": {},
   "source": [
    "***Bemerkung***\n",
    "Hinsichtlich der *Kommentierung* ergeben sich durch die Verwendung des Markdowns in Jupyter Notebooks natürlich ganz neue Möglichkeiten, da man nicht auf Kommentarzeilen im Code selbst angewiesen ist."
   ]
  },
  {
   "cell_type": "markdown",
   "metadata": {},
   "source": [
    "## Logik und Wahrheitswerte\n",
    "Informationen zu logischen Vektoren und Operatoren erhält man im [R Handbuch](https://cran.r-project.org/doc/manuals/r-release/R-intro.html#Logical-vectors) oder etwas dateillierter an der [ETH Zürich](https://stat.ethz.ch/R-manual/R-devel/library/base/html/Logic.html)."
   ]
  },
  {
   "cell_type": "markdown",
   "metadata": {},
   "source": [
    "### Einfache Vergleiche"
   ]
  },
  {
   "cell_type": "code",
   "execution_count": null,
   "metadata": {},
   "outputs": [],
   "source": [
    "5 > 6"
   ]
  },
  {
   "cell_type": "code",
   "execution_count": null,
   "metadata": {},
   "outputs": [],
   "source": [
    "(5 + 1) != 5"
   ]
  },
  {
   "cell_type": "code",
   "execution_count": null,
   "metadata": {},
   "outputs": [],
   "source": [
    "-5 < -4"
   ]
  },
  {
   "cell_type": "markdown",
   "metadata": {},
   "source": [
    "### Logische Verknüpfungen"
   ]
  },
  {
   "cell_type": "code",
   "execution_count": null,
   "metadata": {},
   "outputs": [],
   "source": [
    "(1 >= 0) && (9 == 3^2) # Logisches UND"
   ]
  },
  {
   "cell_type": "code",
   "execution_count": null,
   "metadata": {},
   "outputs": [],
   "source": [
    "(1 == 0) || (9 == 3^2) # Logisches ODER"
   ]
  },
  {
   "cell_type": "code",
   "execution_count": null,
   "metadata": {},
   "outputs": [],
   "source": [
    "FALSE || TRUE"
   ]
  },
  {
   "cell_type": "markdown",
   "metadata": {},
   "source": [
    "***Wichtig:*** Die Doppeloperatoren $||$ und $\\$\\$ $ werden nur so lange ausgewertet, bis das Ergebnis fest steht. Bei den Einzeloperatoren werden alle Teilausdrücke evaluiert (siehe die folgenden Schritte). Genauer spricht man von *vektorwertiger* (bei den Einzeloperatoren) bzw. *nicht vektorwertiger* (bei den Doppeloperatoren) Evaluierung."
   ]
  },
  {
   "cell_type": "code",
   "execution_count": null,
   "metadata": {},
   "outputs": [],
   "source": [
    "x <- 1\n",
    "x"
   ]
  },
  {
   "cell_type": "code",
   "execution_count": null,
   "metadata": {},
   "outputs": [],
   "source": [
    "TRUE || (x <- 2)  # Ausdruck ist TRUE und die Auswertung des ersten Teilausdrucks genügt"
   ]
  },
  {
   "cell_type": "code",
   "execution_count": null,
   "metadata": {},
   "outputs": [],
   "source": [
    "x"
   ]
  },
  {
   "cell_type": "code",
   "execution_count": null,
   "metadata": {},
   "outputs": [],
   "source": [
    "FALSE || (x <- 2)  # Hier muss auch der zweite Teilausdruck evaluiert werden"
   ]
  },
  {
   "cell_type": "code",
   "execution_count": null,
   "metadata": {},
   "outputs": [],
   "source": [
    "x"
   ]
  },
  {
   "cell_type": "code",
   "execution_count": null,
   "metadata": {},
   "outputs": [],
   "source": [
    "TRUE | (x <- 3)  # Beide Teilausdrücke werden evaluiert"
   ]
  },
  {
   "cell_type": "code",
   "execution_count": null,
   "metadata": {},
   "outputs": [],
   "source": [
    "x"
   ]
  },
  {
   "cell_type": "code",
   "execution_count": null,
   "metadata": {},
   "outputs": [],
   "source": [
    "logicalVector1 <- c(TRUE, TRUE)\n",
    "logicalVector2 <- c(FALSE, TRUE)\n",
    "logicalVector3 <- c(FALSE, FALSE)\n",
    "logicalVector4 <- c(TRUE, FALSE)\n"
   ]
  },
  {
   "cell_type": "code",
   "execution_count": null,
   "metadata": {},
   "outputs": [],
   "source": [
    "logicalVector1 & logicalVector2  # vektorwertig, d.h. es gibt ein Ergebnis für beide Vektorelemente"
   ]
  },
  {
   "cell_type": "code",
   "execution_count": null,
   "metadata": {
    "scrolled": true
   },
   "outputs": [],
   "source": [
    "logicalVector1 && logicalVector2  # NICHT vektorwertig, d.h. es wird nur das erste Element evaluiert"
   ]
  },
  {
   "cell_type": "code",
   "execution_count": null,
   "metadata": {},
   "outputs": [],
   "source": [
    "logicalVector3 | logicalVector2  # vektorwertig, d.h. es gibt ein Ergebnis für beide Vektorelemente"
   ]
  },
  {
   "cell_type": "code",
   "execution_count": null,
   "metadata": {},
   "outputs": [],
   "source": [
    "logicalVector3 || logicalVector2  # NICHT vektorwertig, d.h. es wird nur das erste Element evaluiert"
   ]
  },
  {
   "cell_type": "code",
   "execution_count": null,
   "metadata": {},
   "outputs": [],
   "source": [
    "logicalVector3 || logicalVector4  # NICHT vektorwertig, d.h. es wird nur das erste Element evaluiert"
   ]
  },
  {
   "cell_type": "markdown",
   "metadata": {},
   "source": [
    "### Vektorielle logische Funktionen"
   ]
  },
  {
   "cell_type": "code",
   "execution_count": null,
   "metadata": {},
   "outputs": [],
   "source": [
    "vec <- c(7, 6, 5, 4, 3, 2, 1)  # einfacher Vektor\n",
    "einige <- vec > 3\n",
    "alle <- vec < 10"
   ]
  },
  {
   "cell_type": "code",
   "execution_count": null,
   "metadata": {},
   "outputs": [],
   "source": [
    "any(einige)  # gibt es wahre Elemente in \"einige\"?"
   ]
  },
  {
   "cell_type": "code",
   "execution_count": null,
   "metadata": {},
   "outputs": [],
   "source": [
    "any(alle)  # gibt es wahre Elemente in \"alle\"?"
   ]
  },
  {
   "cell_type": "code",
   "execution_count": null,
   "metadata": {},
   "outputs": [],
   "source": [
    "any(!alle)  # gibt es wahre Elemente in NICHT \"alle\" (der logischen Negation von \"alle\")?"
   ]
  },
  {
   "cell_type": "code",
   "execution_count": null,
   "metadata": {},
   "outputs": [],
   "source": [
    "all(einige)  # sind sämtliche Elemente von \"einige\" wahr?"
   ]
  },
  {
   "cell_type": "code",
   "execution_count": null,
   "metadata": {},
   "outputs": [],
   "source": [
    "all(alle)  # sind sämtliche Elemente von \"alle\" wahr?"
   ]
  },
  {
   "cell_type": "code",
   "execution_count": null,
   "metadata": {},
   "outputs": [],
   "source": [
    "which(einige)  # an welchen Stellen ist \"einige\" wahr?"
   ]
  },
  {
   "cell_type": "code",
   "execution_count": null,
   "metadata": {},
   "outputs": [],
   "source": [
    "which.max(vec)  # an welcher Stelle ist das Maximum von vec?"
   ]
  },
  {
   "cell_type": "markdown",
   "metadata": {},
   "source": [
    "### Logische Konstante für fehlende Werte"
   ]
  },
  {
   "cell_type": "code",
   "execution_count": null,
   "metadata": {},
   "outputs": [],
   "source": [
    "logisch <- NA"
   ]
  },
  {
   "cell_type": "code",
   "execution_count": null,
   "metadata": {},
   "outputs": [],
   "source": [
    "str(logisch) # Strukur (Typ und Wert) der Variable \"logisch\" anzeigen"
   ]
  },
  {
   "cell_type": "markdown",
   "metadata": {},
   "source": [
    "**Achtung:** Wie man sieht, hat die `str`-Funktion in __R__ eine gnaz andere Bedeutung als in *Python*!!"
   ]
  },
  {
   "cell_type": "code",
   "execution_count": null,
   "metadata": {},
   "outputs": [],
   "source": [
    "numVec <- c(5, logisch)\n",
    "str(numVec)"
   ]
  },
  {
   "cell_type": "markdown",
   "metadata": {},
   "source": [
    "Der Vektor ist also numerisch, d.h. fehlende Werte können sich vom Datentyp her *anpassen*!"
   ]
  },
  {
   "cell_type": "markdown",
   "metadata": {},
   "source": [
    "## Datentypen (Modi)\n",
    "\n",
    "Es gibt die folgenden Datentypen\n",
    "\n",
    "| Beschreibung |   Beispiel $\\phantom{Platz!}$   | Datentyp (Modus)|\n",
    "|--------------|----------|---------|\n",
    "| die leere Menge $\\emptyset$ | <tt>NULL</tt> | *NULL* |\n",
    "| logische Werte | <tt>TRUE</tt> | *logical* |\n",
    "| ganze und reelle Zahlen | $3.141$ | *numeric* |\n",
    "| komplexe Zahlen | $2.718+3\\mathrm{i}$ | *complex* |\n",
    "| Buchstaben und Zeichenfolgen | \"Hallo!\" | *character* |\n",
    "\n",
    "Diese kann man mit `mode()` abfragen, während der Speichertyp mit `typeof()` abgefragt wird. \n",
    "\n",
    "Die Tabelle gibt dabei eine *Hierarchie* der Modi wieder, wobei die leere Menge eine Sonderrolle einnimmt. Abgesehen davon kann ein Wert eines weiter oben stehenden Modus durch einen weiter unten stehenden repräsentiert werden."
   ]
  },
  {
   "cell_type": "code",
   "execution_count": null,
   "metadata": {},
   "outputs": [],
   "source": [
    "(x <- exp(1))         # äußere Klammer bewirkt gleichzeitig die Ausgabe des Variablenwertes\n",
    "(y <- as.integer(x))  # Informationsverlust!"
   ]
  },
  {
   "cell_type": "code",
   "execution_count": null,
   "metadata": {},
   "outputs": [],
   "source": [
    "mode(x)"
   ]
  },
  {
   "cell_type": "code",
   "execution_count": null,
   "metadata": {},
   "outputs": [],
   "source": [
    "typeof(x)"
   ]
  },
  {
   "cell_type": "code",
   "execution_count": null,
   "metadata": {},
   "outputs": [],
   "source": [
    "mode(y)"
   ]
  },
  {
   "cell_type": "code",
   "execution_count": null,
   "metadata": {},
   "outputs": [],
   "source": [
    "typeof(y)"
   ]
  },
  {
   "cell_type": "code",
   "execution_count": null,
   "metadata": {},
   "outputs": [],
   "source": [
    "is.character(y)  # Test auf Zeichenkette"
   ]
  },
  {
   "cell_type": "code",
   "execution_count": null,
   "metadata": {},
   "outputs": [],
   "source": [
    "z <- -1\n",
    "sqrt(z)"
   ]
  },
  {
   "cell_type": "code",
   "execution_count": null,
   "metadata": {},
   "outputs": [],
   "source": [
    "sqrt(as.complex(z))"
   ]
  },
  {
   "cell_type": "markdown",
   "metadata": {},
   "source": [
    "## Datenstrukturen\n",
    "\n",
    "In R gibt es die Datenstrukturen *Vekotr*, *Matrix*, *Array*, *Datensatz* (Data Frame) und *Liste*. Selbst die sonst üblichen *Skalare* sind in R in Wahrheit Vektoren der Länge 1."
   ]
  },
  {
   "cell_type": "markdown",
   "metadata": {},
   "source": [
    "### Vektoren\n",
    "\n",
    "Vektoren werden aus anderen mit Hilfe der Funktion `c()` (*combine* bzw. *concatenate*) gebildet."
   ]
  },
  {
   "cell_type": "code",
   "execution_count": null,
   "metadata": {},
   "outputs": [],
   "source": [
    "(vec <- c(3.14, 6.2, 6.7))"
   ]
  },
  {
   "cell_type": "code",
   "execution_count": null,
   "metadata": {},
   "outputs": [],
   "source": [
    "(vec <- c(2.2, vec, 7.9))"
   ]
  },
  {
   "cell_type": "code",
   "execution_count": null,
   "metadata": {},
   "outputs": [],
   "source": [
    "typeof(vec)"
   ]
  },
  {
   "cell_type": "code",
   "execution_count": null,
   "metadata": {},
   "outputs": [],
   "source": [
    "(zVec <- c(\"Hallo\", \"Welt\"))"
   ]
  },
  {
   "cell_type": "code",
   "execution_count": null,
   "metadata": {},
   "outputs": [],
   "source": [
    "typeof(zVec)"
   ]
  },
  {
   "cell_type": "code",
   "execution_count": null,
   "metadata": {},
   "outputs": [],
   "source": [
    "(zVec <- c(zVec, TRUE, vec))  # die reellen Zahlen und der logische Wert werden in eine Zeichenkette umgewandelt"
   ]
  },
  {
   "cell_type": "code",
   "execution_count": null,
   "metadata": {},
   "outputs": [],
   "source": [
    "typeof(zVec)"
   ]
  },
  {
   "cell_type": "code",
   "execution_count": null,
   "metadata": {},
   "outputs": [],
   "source": [
    "length(zVec)"
   ]
  },
  {
   "cell_type": "code",
   "execution_count": null,
   "metadata": {},
   "outputs": [],
   "source": [
    "(cVec <- c(5,0+1i))  # die (reelle) Zahl 5 wird in eine komplexe Zahl umgewandelt"
   ]
  },
  {
   "cell_type": "markdown",
   "metadata": {},
   "source": [
    "#### Assoziative Vektoren\n",
    "Man kann die Elemente eines Vektors auch benennen und später durch den Namen oder den Index darauf zugreifen."
   ]
  },
  {
   "cell_type": "code",
   "execution_count": null,
   "metadata": {},
   "outputs": [],
   "source": [
    "(aVec <- c(Alter = 37, Hausnummer = 88))"
   ]
  },
  {
   "cell_type": "markdown",
   "metadata": {},
   "source": [
    "*Zugriff auf Vektorelemente*"
   ]
  },
  {
   "cell_type": "code",
   "execution_count": null,
   "metadata": {},
   "outputs": [],
   "source": [
    "aVec[1]  # per Index (immer möglich)"
   ]
  },
  {
   "cell_type": "code",
   "execution_count": null,
   "metadata": {},
   "outputs": [],
   "source": [
    "aVec['Alter']  # bei assoziativen Vektoren auch per Key (Name des Elements)"
   ]
  },
  {
   "cell_type": "markdown",
   "metadata": {},
   "source": [
    "**Bemerkung:** Assoziative Vektoren entsprechen also *Dictionaries* in Python."
   ]
  },
  {
   "cell_type": "markdown",
   "metadata": {},
   "source": [
    "#### Folgen und Wiederholungen"
   ]
  },
  {
   "cell_type": "code",
   "execution_count": null,
   "metadata": {},
   "outputs": [],
   "source": [
    "4:11  # Ganzzahlige Zahlenfolge mit Abstand 1"
   ]
  },
  {
   "cell_type": "code",
   "execution_count": null,
   "metadata": {},
   "outputs": [],
   "source": [
    "7:-3"
   ]
  },
  {
   "cell_type": "code",
   "execution_count": null,
   "metadata": {},
   "outputs": [],
   "source": [
    "seq(3,15, by = 2)  # Zahlenfolge mit beliebigem Abstand"
   ]
  },
  {
   "cell_type": "code",
   "execution_count": null,
   "metadata": {},
   "outputs": [],
   "source": [
    "seq(4, -1, by = -0.5)"
   ]
  },
  {
   "cell_type": "code",
   "execution_count": null,
   "metadata": {},
   "outputs": [],
   "source": [
    "rep(2, 17)  # 17-malige Wiederholung der Zahl 2"
   ]
  },
  {
   "cell_type": "code",
   "execution_count": null,
   "metadata": {},
   "outputs": [],
   "source": [
    "rep(c(2,3), 3) # 3-malige Wiederholung des Vektors (2,3)"
   ]
  },
  {
   "cell_type": "code",
   "execution_count": null,
   "metadata": {},
   "outputs": [],
   "source": [
    "rep(2:4, 3:5) # 3 mal 2, 4 mal 3, 5 mal 4"
   ]
  },
  {
   "cell_type": "code",
   "execution_count": null,
   "metadata": {},
   "outputs": [],
   "source": [
    "(vec <- c(3.2, 4.5, 5.7) * 2)  # Skalarmultiplikation, d.h. jedes Vektorelement wird verdoppelt"
   ]
  },
  {
   "cell_type": "code",
   "execution_count": null,
   "metadata": {},
   "outputs": [],
   "source": [
    "vec + 3:5  # Vektoraddition elementweise"
   ]
  },
  {
   "cell_type": "code",
   "execution_count": null,
   "metadata": {},
   "outputs": [],
   "source": [
    "2:4 - 1:6 # 2-1, 3-2, 4-3, 2-4, 3-5, 4-6 (!! Länge des zweiten Vektors ist Vielfaches der Länge des ersten !!)"
   ]
  },
  {
   "cell_type": "code",
   "execution_count": null,
   "metadata": {},
   "outputs": [],
   "source": [
    "2:4 - 1:4  # Länge kein Vielfaches --> Warnung!"
   ]
  },
  {
   "cell_type": "markdown",
   "metadata": {},
   "source": [
    "#### Matrixmultiplikation\n",
    "Hier sollen zunächst die Spezialfälle des *Skalarprodukts* $(1\\times n \\cdot n \\times 1 \\rightarrow 1\\times 1)$ bzw. des *Matrix-Vektor-Produkts* $(n\\times 1 \\cdot 1 \\times n \\rightarrow n\\times n)$ betrachtet werden. Der Operator für die Matrixmultiplikation ist `%*%`."
   ]
  },
  {
   "cell_type": "code",
   "execution_count": null,
   "metadata": {},
   "outputs": [],
   "source": [
    "t(3:5) %*% 2:4  # (3,4,5)^t * (2,3,4) -- Skalarprodukt (1x3 * 3x1)"
   ]
  },
  {
   "cell_type": "code",
   "execution_count": null,
   "metadata": {},
   "outputs": [],
   "source": [
    "2:4 %*% t(3:5) # Vektorprodukt (3x1 * 1x3)"
   ]
  },
  {
   "cell_type": "markdown",
   "metadata": {},
   "source": [
    "#### Umgang mit Vektorelementen\n",
    "Das folgende Beispiel erläutert den Umgang mit Vektorelemeneten noch einmal zusammenfassend (siehe die jeweiligen Kommentare)."
   ]
  },
  {
   "cell_type": "code",
   "execution_count": null,
   "metadata": {},
   "outputs": [],
   "source": [
    "(vec <- c(2, 7, 3, 4, 2 , 1, 5))  # Initialisierung mit combine"
   ]
  },
  {
   "cell_type": "code",
   "execution_count": null,
   "metadata": {},
   "outputs": [],
   "source": [
    "length(vec)"
   ]
  },
  {
   "cell_type": "code",
   "execution_count": null,
   "metadata": {},
   "outputs": [],
   "source": [
    "vec[5]  # das 5. Element"
   ]
  },
  {
   "cell_type": "markdown",
   "metadata": {},
   "source": [
    "**Achtung:** In __R__ beginnt die Zählung mit 1, in Python mit 0!"
   ]
  },
  {
   "cell_type": "code",
   "execution_count": null,
   "metadata": {},
   "outputs": [],
   "source": [
    "vec[c(6,3)]  # das 6. und das 3. Element (in dieser Reihenfolge!)"
   ]
  },
  {
   "cell_type": "code",
   "execution_count": null,
   "metadata": {},
   "outputs": [],
   "source": [
    "vec[-c(2:4)]  # Ausschluss des 2. bis 4. Elements"
   ]
  },
  {
   "cell_type": "code",
   "execution_count": null,
   "metadata": {},
   "outputs": [],
   "source": [
    "(logVec <- vec < 3)  # TRUE, wenn das jeweilige Element von vec kleiner als 3 ist, sonst FALSE"
   ]
  },
  {
   "cell_type": "code",
   "execution_count": null,
   "metadata": {},
   "outputs": [],
   "source": [
    "vec[logVec]  # logische Indizierung, also alle Elemente von vec, die kleiner als 3 sind"
   ]
  },
  {
   "cell_type": "code",
   "execution_count": null,
   "metadata": {},
   "outputs": [],
   "source": [
    "vec[vec < 3]  # auf direktem Wege"
   ]
  },
  {
   "cell_type": "code",
   "execution_count": null,
   "metadata": {},
   "outputs": [],
   "source": [
    "nameVec <- c(Apfel = 4, Birne = 2, Orange = 5)  # assoziativer Vektor (benannte Elemente)\n",
    "nameVec['Birne']  # Zugriff mittels Namen"
   ]
  },
  {
   "cell_type": "code",
   "execution_count": null,
   "metadata": {},
   "outputs": [],
   "source": [
    "nameVec['Birne'] <- 10  # Zuweisung eines neuen Werts für ein Element (überschreiben des Elements)\n",
    "nameVec"
   ]
  },
  {
   "cell_type": "code",
   "execution_count": null,
   "metadata": {},
   "outputs": [],
   "source": [
    "vec[9:10] <- 12:11  # dem 9. und 10. Element Werte zuweisen"
   ]
  },
  {
   "cell_type": "code",
   "execution_count": null,
   "metadata": {},
   "outputs": [],
   "source": [
    "vec  # Achtung: NA für das 8. Element, da diesem noch nichts zugewiesen wurde!"
   ]
  },
  {
   "cell_type": "code",
   "execution_count": null,
   "metadata": {},
   "outputs": [],
   "source": [
    "length(vec)"
   ]
  },
  {
   "cell_type": "code",
   "execution_count": null,
   "metadata": {},
   "outputs": [],
   "source": [
    "vec[] <- 0  # alle 10 Elemente durch 0 ersetzen"
   ]
  },
  {
   "cell_type": "code",
   "execution_count": null,
   "metadata": {},
   "outputs": [],
   "source": [
    "vec"
   ]
  },
  {
   "cell_type": "code",
   "execution_count": null,
   "metadata": {},
   "outputs": [],
   "source": [
    "vec <- 0 # überschreiben, d.h. man erhält einen einelementigen Vektor (Skalar) mit dem Wert 0"
   ]
  },
  {
   "cell_type": "code",
   "execution_count": null,
   "metadata": {},
   "outputs": [],
   "source": [
    "vec"
   ]
  },
  {
   "cell_type": "code",
   "execution_count": null,
   "metadata": {},
   "outputs": [],
   "source": [
    "length(vec)"
   ]
  },
  {
   "cell_type": "markdown",
   "metadata": {},
   "source": [
    "## Matrizen\n",
    "Matrizen sind *zweidimensional*, d.h., man spricht von $n\\times m$-Matrizen, wobei $n$ die Anzahl der Zeilen und $m$ die Anzahl der Spalten bezeichnet. In R heißen diese Dimensionsgrößen `nrow` bzw. `ncol` und eine der beiden muss zumindest angegeben werden, wenn eine Matrix mit Hilfe der `matrix()`-Funktion erzeugt wird."
   ]
  },
  {
   "cell_type": "code",
   "execution_count": null,
   "metadata": {},
   "outputs": [],
   "source": [
    "(X <- matrix(c(1,1,2,3,5,8), nrow = 2))"
   ]
  },
  {
   "cell_type": "code",
   "execution_count": null,
   "metadata": {},
   "outputs": [],
   "source": [
    "X[1, ]  # erste Zeile"
   ]
  },
  {
   "cell_type": "code",
   "execution_count": null,
   "metadata": {},
   "outputs": [],
   "source": [
    "X[, 2]  # zweite Spalte"
   ]
  },
  {
   "cell_type": "markdown",
   "metadata": {},
   "source": [
    "Beim *Zugriff* auf Matrixelemente ist Vorsicht geboten. Je nachdem, ob man wirklich nur den *Wert* des Elements braucht (eindimensional) oder ob man eine $1\\times1$-Matrix (zweidimensional) als Ergebnis möchte, muss man ggf. verhindern, dass eine Dimension *fallen gelassen* wird."
   ]
  },
  {
   "cell_type": "code",
   "execution_count": null,
   "metadata": {},
   "outputs": [],
   "source": [
    "X[2,3]  # Skalar (eindimensional)"
   ]
  },
  {
   "cell_type": "code",
   "execution_count": null,
   "metadata": {},
   "outputs": [],
   "source": [
    "X[2, 3, drop = FALSE]  # 1x1-Matrix (zweidimensional)"
   ]
  },
  {
   "cell_type": "markdown",
   "metadata": {},
   "source": [
    "Eine Übersicht über **Matrixfunktionen** findet man z.B. bei [Quick-R](http://www.statmethods.net/advstats/matrix.html). Im Folgenden sehen wir exemplarisch die Verwendung der Funktion `diag()`."
   ]
  },
  {
   "cell_type": "code",
   "execution_count": null,
   "metadata": {},
   "outputs": [],
   "source": [
    "(A <- matrix(3:6, nrow = 2))  # Erzeugug einer 2x2 Matrix"
   ]
  },
  {
   "cell_type": "code",
   "execution_count": null,
   "metadata": {},
   "outputs": [],
   "source": [
    "diag(A)  # Ausgabe der Diagonale von A"
   ]
  },
  {
   "cell_type": "code",
   "execution_count": null,
   "metadata": {},
   "outputs": [],
   "source": [
    "diag(A) <- 0  # Diagonalelemente von A auf Null setzen\n",
    "A"
   ]
  },
  {
   "cell_type": "code",
   "execution_count": null,
   "metadata": {},
   "outputs": [],
   "source": [
    "diag(3)  # die 3x3 Einheitsmatrix"
   ]
  },
  {
   "cell_type": "markdown",
   "metadata": {},
   "source": [
    "#### Struktur einer Matrix\n",
    "aus Sicht von R ist eine Matrix ein Vektor mit zwei Dimensionsattributen. Dies schauen wir uns im einzelnen an und lernen noch einen weiteren Weg kennen, eine Matrix zu erzeugen."
   ]
  },
  {
   "cell_type": "code",
   "execution_count": null,
   "metadata": {},
   "outputs": [],
   "source": [
    "str(X)  # Struktur der Matrix X beschreiben"
   ]
  },
  {
   "cell_type": "code",
   "execution_count": null,
   "metadata": {},
   "outputs": [],
   "source": [
    "(Y <- c(1,1,2,3,5,8))  # eindimensionaler Vektor mit den gleichen Werten, wie in der Matrix X"
   ]
  },
  {
   "cell_type": "code",
   "execution_count": null,
   "metadata": {},
   "outputs": [],
   "source": [
    "str(Y)  # Struktur von Y"
   ]
  },
  {
   "cell_type": "code",
   "execution_count": null,
   "metadata": {},
   "outputs": [],
   "source": [
    "dim(Y) <- c(2,3)  # aus Y eine Matrix machen (die gleiche wie X!)\n",
    "Y"
   ]
  },
  {
   "cell_type": "code",
   "execution_count": null,
   "metadata": {},
   "outputs": [],
   "source": [
    "str(Y)  # Struktur von Y"
   ]
  },
  {
   "cell_type": "markdown",
   "metadata": {
    "collapsed": true
   },
   "source": [
    "## Arrays\n",
    "Diese können beliebig viele Dimsionen besitzen, wobei aber zumeist nicht mehr als drei Dimensionen verwendet werden. Arrays sind somit *Verallgemeinerungen* von Matrizen."
   ]
  },
  {
   "cell_type": "code",
   "execution_count": null,
   "metadata": {},
   "outputs": [],
   "source": [
    "(Ar <- array(seq(2,24, by = 2), dim = c(2,2,3)))  # Ausgabe erfolgt linear"
   ]
  },
  {
   "cell_type": "code",
   "execution_count": null,
   "metadata": {},
   "outputs": [],
   "source": [
    "str(Ar)  # Struktur des Arrays (--> wie erwartet)"
   ]
  },
  {
   "cell_type": "code",
   "execution_count": null,
   "metadata": {},
   "outputs": [],
   "source": [
    "print(Ar)  # strukuriert ausgeben"
   ]
  },
  {
   "cell_type": "code",
   "execution_count": null,
   "metadata": {},
   "outputs": [],
   "source": [
    "Ar[2,1,3]  # Zugriff auf ein bestimmtes Element"
   ]
  },
  {
   "cell_type": "markdown",
   "metadata": {},
   "source": [
    "## Listen\n",
    "Listen sind einfach *Sammlungen* verschiedener Objekte. Erzegut werden sie mit `list()`. Der Zugriff auf Listenelemente erfolgt mittels der eckigen Doppelklammer `[[]]`."
   ]
  },
  {
   "cell_type": "code",
   "execution_count": null,
   "metadata": {},
   "outputs": [],
   "source": [
    "(L1 <- list(3:6, matrix(c(2,5,8,13), 2), c(\"Ein\",\"Text\")))"
   ]
  },
  {
   "cell_type": "code",
   "execution_count": null,
   "metadata": {},
   "outputs": [],
   "source": [
    "str(L1)"
   ]
  },
  {
   "cell_type": "code",
   "execution_count": null,
   "metadata": {},
   "outputs": [],
   "source": [
    "L1[[3]]  # 3. Element von L1"
   ]
  },
  {
   "cell_type": "code",
   "execution_count": null,
   "metadata": {},
   "outputs": [],
   "source": [
    "L1[[2]][1,1]  # 1. Element des 2. Elements von L1"
   ]
  },
  {
   "cell_type": "code",
   "execution_count": null,
   "metadata": {},
   "outputs": [],
   "source": [
    "L1[[c(3,2)]]  # rekursive Angabe: 2. Element des dritten Elements von L1"
   ]
  },
  {
   "cell_type": "code",
   "execution_count": null,
   "metadata": {},
   "outputs": [],
   "source": [
    "(L2 <- list(Idee = 'Uwe Ligges', Liste1 = L1))  # Elemente können auch benannt werden (assoziative Listen)"
   ]
  },
  {
   "cell_type": "code",
   "execution_count": null,
   "metadata": {},
   "outputs": [],
   "source": [
    "L2$Idee  # Zugriff mit dem $-Operator"
   ]
  },
  {
   "cell_type": "code",
   "execution_count": null,
   "metadata": {},
   "outputs": [],
   "source": [
    "L2[['Liste1']][c(1,3)]  # 1. und 3. Element des Elements Liste1 von L2 (Ergebnis ist auch eine Liste!)"
   ]
  },
  {
   "cell_type": "code",
   "execution_count": null,
   "metadata": {},
   "outputs": [],
   "source": [
    "str(L2[['Liste1']][c(1,3)])"
   ]
  },
  {
   "cell_type": "markdown",
   "metadata": {},
   "source": [
    "## Datensätze - Data Frames\n",
    "Dies ist *die* Datenstruktur in R für Data Science - eigentlich benötigen die meisten Funktionen in R Data Frames als Eingabe. Datensätze entsprechen beispielsweise auch Tabellen in relationalen Datenbanken.\n",
    "\n",
    "Aus Sicht von R sind Data Frames spezielle Listen, nämlich solche, deren Elemente jeweils Vektoren gleicher Länge sind (genau wie Spalten einer Datenbank-Tabelle). Meist sind diese auch benannt (wie die Attribute (= Spalten) einer Datenbank-Tabelle). Erzeugt werden sie mit der Funktion `data.frame()`.\n",
    "\n",
    "Normalerweise werden Data Frames daher auch auf Basis *externer Datenquellen* wie <tt>csv</tt>-Dateien oder Datenbank-Tabellen erzaugt. Hier betrachten wir zunächst ein Beispiel von Hand. Näheres zu Data Frames dann in einer eigenen Veranstaltung zum Thema."
   ]
  },
  {
   "cell_type": "code",
   "execution_count": null,
   "metadata": {},
   "outputs": [],
   "source": [
    "THU <- data.frame(Studiengang = c('WF', 'IG', 'DSM', 'INF', 'CTS', 'IEW', 'WL', 'DM', 'ET'),\n",
    "                         Fakultaet   = c('I',  'I',  'I',   'I',    'I', 'P',  'P',  'E',  'E' ),\n",
    "                         Studierende = c(167,  133,  60,    73,    55, 112,   143,  87 ,  101 ))"
   ]
  },
  {
   "cell_type": "code",
   "execution_count": null,
   "metadata": {},
   "outputs": [],
   "source": [
    "THU"
   ]
  },
  {
   "cell_type": "code",
   "execution_count": null,
   "metadata": {},
   "outputs": [],
   "source": [
    "str(THU)"
   ]
  },
  {
   "cell_type": "markdown",
   "metadata": {},
   "source": [
    "Die Strukturuntersuchung zeigt, dass Studiengang und Fakultaet als *Faktoren* aufgefasst werden. Nähere Informationen hierzu findet man etwa im [Gnu R Wikibook](https://de.wikibooks.org/wiki/GNU_R:_factor). Allgemein sind Faktoren *unabhängige Variablen* in einem (statistischen) Experiment und die Werte, die diese annehmen können, nennt man *Faktorstufen* (siehe auch [StatistikGuru](http://statistikguru.de/lexikon/faktor-faktorstufe.html)).\n",
    "\n",
    "Der *Zugriff* auf einzelne Elemente kann wie bei Listen oder wie bei Matrizen erfolgen."
   ]
  },
  {
   "cell_type": "code",
   "execution_count": null,
   "metadata": {},
   "outputs": [],
   "source": [
    "THU$Studiengang[1]  # erste Variante"
   ]
  },
  {
   "cell_type": "code",
   "execution_count": null,
   "metadata": {},
   "outputs": [],
   "source": [
    "THU[[1]][1]  # zweite Variante"
   ]
  },
  {
   "cell_type": "code",
   "execution_count": null,
   "metadata": {},
   "outputs": [],
   "source": [
    "THU[1,1]  # dritte Variante"
   ]
  },
  {
   "cell_type": "code",
   "execution_count": null,
   "metadata": {},
   "outputs": [],
   "source": [
    "THU$Studiengang[Hochschule$Studierende > 120]  # lästig: wiederholte Angabe des Data Frame"
   ]
  },
  {
   "cell_type": "code",
   "execution_count": null,
   "metadata": {},
   "outputs": [],
   "source": [
    "with(THU, Studiengang[Studierende > 120])  # praktisch: Data Frame als Namensraum (nur temporär)"
   ]
  },
  {
   "cell_type": "code",
   "execution_count": null,
   "metadata": {},
   "outputs": [],
   "source": [
    "Studiengang[Studierende > 120] # Studiengang wird OHNE vorangestellte `THU` nicht gefunden"
   ]
  },
  {
   "cell_type": "code",
   "execution_count": null,
   "metadata": {},
   "outputs": [],
   "source": [
    "attach(THU) # Data Frame in Suchpfad einbinden -> Namensraum permanent vorhanden"
   ]
  },
  {
   "cell_type": "code",
   "execution_count": null,
   "metadata": {},
   "outputs": [],
   "source": [
    "Studiengang[Studierende > 120] # Studiengang wird jetzt im Suchpfad auch OHNE vorangestellte `THU` gefunden"
   ]
  },
  {
   "cell_type": "code",
   "execution_count": null,
   "metadata": {},
   "outputs": [],
   "source": [
    "detach(THU) # Data Frame wieder aus Namensraum entfernen"
   ]
  },
  {
   "cell_type": "code",
   "execution_count": null,
   "metadata": {},
   "outputs": [],
   "source": [
    "Studiengang[Studierende > 120] # Studiengang wird jetzt im Suchpfad auch OHNE vorangestellte `THU` gefunden"
   ]
  },
  {
   "cell_type": "markdown",
   "metadata": {},
   "source": [
    "### Selektieren in Data Frames"
   ]
  },
  {
   "cell_type": "code",
   "execution_count": null,
   "metadata": {},
   "outputs": [],
   "source": [
    "THU[THU[['Fakultaet']] == 'I',]  # wieder lästig (auch das Komma am Ende des Index ...)"
   ]
  },
  {
   "cell_type": "code",
   "execution_count": null,
   "metadata": {},
   "outputs": [],
   "source": [
    "subset(THU, Fakultaet == 'I')  # wieder praktisch: Teilmenge mit Funktion mit Namensraum"
   ]
  },
  {
   "cell_type": "code",
   "execution_count": null,
   "metadata": {},
   "outputs": [],
   "source": [
    "subset(THU, Fakultaet == 'I', select = c(1,3))  # die Fakultät kennen wir ja"
   ]
  },
  {
   "cell_type": "code",
   "execution_count": null,
   "metadata": {},
   "outputs": [],
   "source": [
    "subset(THU, Fakultaet == 'I', select = -2)  # das Gleiche durch Ausschließen der zweiten Spalte"
   ]
  },
  {
   "cell_type": "code",
   "execution_count": null,
   "metadata": {},
   "outputs": [],
   "source": [
    "subset(THU, Fakultaet %in% c('I', 'E'))  # Enthaltensein mit %in% testen"
   ]
  },
  {
   "cell_type": "code",
   "execution_count": null,
   "metadata": {},
   "outputs": [],
   "source": [
    "subset(THU, Fakultaet %in% c('I', 'E') & Studierende > 100)  # kombinierte Bedingung"
   ]
  },
  {
   "cell_type": "markdown",
   "metadata": {},
   "source": [
    "#### Aufteilung von Datensätzen\n",
    "Mittels `split()` lassen sich Data Frames in mehrere andere aufteilen."
   ]
  },
  {
   "cell_type": "code",
   "execution_count": null,
   "metadata": {},
   "outputs": [],
   "source": [
    "split(THU, THU$Fakultaet)"
   ]
  },
  {
   "cell_type": "code",
   "execution_count": null,
   "metadata": {},
   "outputs": [],
   "source": [
    "(XING <- data.frame(Studiengang = c('WF', 'IG', 'WI'), XINGGruppe = c('ja', 'ja', 'nein')))"
   ]
  },
  {
   "cell_type": "markdown",
   "metadata": {},
   "source": [
    "#### Zusammenführen von Datensätzen\n",
    "Mittels `merge()` lassen sich Datensätze (mit gemeinsamen Attributen) zusammen führen."
   ]
  },
  {
   "cell_type": "code",
   "execution_count": null,
   "metadata": {},
   "outputs": [],
   "source": [
    "merge(THU, XING, all = TRUE)"
   ]
  },
  {
   "cell_type": "markdown",
   "metadata": {
    "collapsed": true
   },
   "source": [
    "## Programm-Ablaufsteuerung\n",
    "Schleifen und bedingte Anweisungen ermöglichen erst das eigentliche Prgrammieren.\n",
    "### Bedingte Anweisungen\n",
    "An verschiedenen Stellen in einem Programm werden *Fallunterscheidungen* benötigt. Dabei werden meist in Abhängigkeit vom Wahrheitswert einer *Bedingung* unterschiedliche Programmteile durchlaufen oder aber Schleifendurchläufe abgebrochen.\n",
    "\n",
    "In R können Fallunterscheidungen mittels der Konstrukte\n",
    "1. `if(Bedingung){Ausdruck1} else {Ausdurck2}`\n",
    "2. `ifelse(Bedingung, Ausdruck1, Ausdruck2)`\n",
    "getroffen werden oder aber mit Hilfe der Funktion `switch()`.\n",
    "\n",
    "Dabei ist bei der ersten Variante des `if`-Konstrukts zu beachten, dass durch die Verwendung der geschweiften Klammern `{}` die Möglichkeit geschaffen wird, mehrere zusammenhängende Befehle zu einem Ausdruck zusammen zu fassen, also einen ganzen *Block* von Anweisungen bedingt ausführen zu lassen.\n",
    "\n",
    "#### if ... else\n",
    "Bei diesem Konstrukt ist zu beachten, dass die Bedingung *nicht vektorwertig* betrachtet wird. Dies bedeutet, dass im Falle einer vektorwertigen Bedingung nur das erste Element betrachtet würde. Außerdem ist es erlaubt, den `else`-Zweig wegzulassen. Das folgende kleine Beispiel verdeutlicht die Möglichkeiten."
   ]
  },
  {
   "cell_type": "code",
   "execution_count": null,
   "metadata": {},
   "outputs": [],
   "source": [
    "x <- 8\n",
    "if (x == 8) {\n",
    "    x <- x + 1\n",
    "    y <- 5\n",
    "} else y<-7  # keine {}, da nur eine Anweisung\n",
    "c(x = x, y = y)"
   ]
  },
  {
   "cell_type": "code",
   "execution_count": null,
   "metadata": {},
   "outputs": [],
   "source": [
    "if (x < 10) print(\"x ist kleiner als 10\")\n",
    "x"
   ]
  },
  {
   "cell_type": "markdown",
   "metadata": {},
   "source": [
    "#### ifelse\n",
    "Hier erfolgt ein *vektorwertiger Vergleich*, d.h., es wird eine komponentenweise Auswertung der Bedingung vorgenommen. Führen wir das Beispiel von eben weiter (wo $x$ derzeit den Wert 9 hat), dann könnten wir beispielsweise folgende Überprüfung samt Ausgabe vornehmen:"
   ]
  },
  {
   "cell_type": "code",
   "execution_count": null,
   "metadata": {},
   "outputs": [],
   "source": [
    "ifelse(x == c(8,9), c(\"v11\", \"v12\"), c(\"v21\", \"v22\"))"
   ]
  },
  {
   "cell_type": "markdown",
   "metadata": {},
   "source": [
    "In der ersten Komponente wird geprüft, ob $x=8$ gilt. Das ist nicht der Fall, also ergibt sich der Wert `v21` aus der zweiten Alternative. Bei der zweiten Komponente wird geprüft, ob $x=9$ gilt. Das ist der Fall, also ergibt sich der Wert `v12` aus der ersten Alternative.\n",
    "#### switch()\n",
    "Mit `switch()` lassen sich in Abhängigkeit von einem Ausdruck mehrere Alternativen angeben."
   ]
  },
  {
   "cell_type": "code",
   "execution_count": null,
   "metadata": {},
   "outputs": [],
   "source": [
    "switch(2, a = 1, b = 2, cc = 3, dd = 4)  # das 2. Element ausgeben "
   ]
  },
  {
   "cell_type": "code",
   "execution_count": null,
   "metadata": {},
   "outputs": [],
   "source": [
    "# das Element namens \"c\" (nicht existent!) ausgeben \n",
    "switch(\"c\", a = 1, b = 2, cc = 3, dd = 4)  "
   ]
  },
  {
   "cell_type": "code",
   "execution_count": null,
   "metadata": {},
   "outputs": [],
   "source": [
    "# das Element namens \"cc\" ausgeben \n",
    "switch(\"cc\", a = 1, b = 2, cc = 3, dd = 4)  "
   ]
  },
  {
   "cell_type": "markdown",
   "metadata": {},
   "source": [
    "Weitere Beispiele sowie die Unterschiede zwischen einem numerischen Ausdruck und einem Zeichenketten-Ausdruck als Bedingung erhält man unter Verwendung der Hilfe mittels `?switch`."
   ]
  },
  {
   "cell_type": "markdown",
   "metadata": {},
   "source": [
    "### Schleifen\n",
    "In R gibt es folgende Schleifentypen und Kontrollworte.\n",
    "\n",
    "\n",
    "Schlleife bzw. Kontrollwort | Beschreibung\n",
    "-------|------\n",
    "`repeat{Ausdruck}` | Wiederholung des *Ausdruck*s\n",
    "`while(Bedingung){AUsdruck}` | Wiederholung, solange *Bedingung* erfüllt ist\n",
    "`for(i in M){Ausdruck}` | Wiederhole *Ausdruck* für jedes $i\\in M$\n",
    "`next` | Sprung in den nächsten Iterationsschritt\n",
    "`break`| Sofortiges Verlassen der Schleife\n",
    "\n",
    "#### repeat, next und break\n",
    "Will man in R eine sogenannte *fußgesteuerte Schleife*, also eine Schleife, die mindestens einmal durchlaufen wird, verwenden, so geschieht das mit `repeat`. Allerdings bekäme man so eine *Endlosschleife*, wenn man nicht die Möglichkeit hätte, die Schelife auch wieder zu verlassen. Dies geschieht aufgrund des Eintretens einer Bedingung somit mit Hilfe der bereits betrachteten *bedingten Anweisung*."
   ]
  },
  {
   "cell_type": "code",
   "execution_count": null,
   "metadata": {},
   "outputs": [],
   "source": [
    "i <- 0\n",
    "repeat{\n",
    "    i <- i + 1        # wiederholte Anweisung\n",
    "    if(i == 5) break  # Abbruchbedingung\n",
    "}\n",
    "i"
   ]
  },
  {
   "cell_type": "markdown",
   "metadata": {},
   "source": [
    "Nun lassen wir das Ergebnis noch innerhalb der Schleife ausgeben. Da dies nur ganz am Ende geschehen soll, müssen wir dafür sorgen, dass anderenfalls der nächste Schleifendurchlauf begonnen wird. Das ganze sieht dann so aus (ist aber natürlich für das Beispiel *kein guter Stil*; es dient lediglich zur Verdeutlichung des Prinzips!)"
   ]
  },
  {
   "cell_type": "code",
   "execution_count": null,
   "metadata": {},
   "outputs": [],
   "source": [
    "i <- 0\n",
    "repeat{\n",
    "    i <- i + 1        # wiederholte Anweisung\n",
    "    if(i < 5) next    # nächste Iteration\n",
    "    print(i)\n",
    "    if(i == 5) break  # Abbruchbedingung\n",
    "}"
   ]
  },
  {
   "cell_type": "markdown",
   "metadata": {},
   "source": [
    "#### while\n",
    "Die vorhergehenden Beispiele hätte man auch *kopfgesteuert* lösen können, wofür sich eine `while`-Schleife anbietet. Hier wird *vor* der Ausführung der Anweisungen überprüft, ob die Bedingung erfüllt ist. Dies führt dazu, dass eine solche Schleife unter Umständen gar nicht durchlaufen wird. Unser Beispiel sähe dann wie folgt aus:"
   ]
  },
  {
   "cell_type": "code",
   "execution_count": null,
   "metadata": {},
   "outputs": [],
   "source": [
    "i <- 0\n",
    "while(i < 5)\n",
    "    i <- i + 1  # ohne {}, da nur eine Anweisung\n",
    "i"
   ]
  },
  {
   "cell_type": "markdown",
   "metadata": {},
   "source": [
    "***Anmerkung:*** Zwar können `break` und `next` auch in `while`-Schleifen verwendet werden, aber dies ist definitiv nicht zu empfehlen und wird allgemein als *schlechter Stil* betrachtet.\n",
    "#### for\n",
    "In einer `for`-Schleife wird über die Elemente einer Menge (häufig eines *Vektors*) iteriert. D.h. die *Laufvariable* nimmt die Werte sämtlicher Elemente der Menge an und die Schleife wird mit diesem Wert ausgeführt. Unser bisheriges Beispiel sähe dann wie folgt aus:"
   ]
  },
  {
   "cell_type": "code",
   "execution_count": null,
   "metadata": {},
   "outputs": [],
   "source": [
    "ivec <- 0:4\n",
    "for(i in ivec)  # Laufvariable i\n",
    "    i <- i + 1\n",
    "i"
   ]
  },
  {
   "cell_type": "markdown",
   "metadata": {},
   "source": [
    "Ein weitergehendes Beispiel wäre das folgende:"
   ]
  },
  {
   "cell_type": "code",
   "execution_count": null,
   "metadata": {},
   "outputs": [],
   "source": [
    "set <- c(2, 5, 3, 7, 6, 0)  # ein Vektor\n",
    "for(i in set)\n",
    "    print(i^2)"
   ]
  },
  {
   "cell_type": "markdown",
   "metadata": {},
   "source": [
    "Allerdings geht das auch einfacher (und *effizienter*!):"
   ]
  },
  {
   "cell_type": "code",
   "execution_count": null,
   "metadata": {},
   "outputs": [],
   "source": [
    "print(set^2)"
   ]
  },
  {
   "cell_type": "markdown",
   "metadata": {},
   "source": [
    "#### Keine Schleifen!\n",
    "Wie das gerade gesehene Beispiel zeigt, können Schleifen in R oft durch den Einsatz *vektorwertiger Funktionen* vermieden werden. Dies sollte man unbedingt anstreben, da Schleifen in einer *interpretierten* Sprache wie R recht *ineffizient* sind!"
   ]
  },
  {
   "cell_type": "markdown",
   "metadata": {},
   "source": [
    "## Zeichenketten\n",
    "Eine kleinere Übersicht über die Funktionen zur Manipulation von Zeichenketten findet man wieder bei [Quick-R](http://www.statmethods.net/management/functions.html). Etwas umfangreicher ist die folgende Übersicht, wobei sich für die genaue Syntax zur Verwendung immer ein Blick auf die entsprechende Hilfeseite empfiehlt.\n",
    "\n",
    "Funktion | Beschreibung\n",
    "----|-----\n",
    "`cat()` | Zusammenfügen und Ausgabe (auch in Dateien)\n",
    "`deparse()` | Ausdruck in Zeichenfolge wandeln\n",
    "`format()` | Formatierung\n",
    "`grep()` | Suche von Zeichenfolgen in Vektoren\n",
    "`match()`, `pmatch()` | Suche von (Teil-)Zeichenketten in anderen\n",
    "`nchar()` | Anzahl Zeichen in einer Zeichenkette\n",
    "`parse()` | Konvertierung in einen Ausdruck\n",
    "`paste()` | Zusammensetzung von Zeichenketten\n",
    "`strsplit()` | Zerlegen von Zeichenketten\n",
    "`sub()`, `gsub()` | Ersetzen von (Teil-)Zeichenfolgen\n",
    "`substring()` | Ausgabe (und Ersetzung) von Teil-Zeichenfolgen\n",
    "`toupper()`, `tolower()` | Umwandlung in Groß-/Kleinbuchstaben\n",
    "\n",
    "Eine extensive Behandlung des Themas findet man im eBook von [Gaston Sanchez](http://gastonsanchez.com/Handling_and_Processing_Strings_in_R.pdf).\n",
    "\n",
    "Es folgen ein paar wenige Beispiele."
   ]
  },
  {
   "cell_type": "code",
   "execution_count": null,
   "metadata": {},
   "outputs": [],
   "source": [
    "# informative Ausgabe\n",
    "x <- 7.4217\n",
    "cat(\"Der Wert von x ist:\", x, \"\\n\", sep=\"\\t\")"
   ]
  },
  {
   "cell_type": "markdown",
   "metadata": {},
   "source": [
    "In diesem Beispiel wurde als Trenner zwischen den Elementen nicht das standardmäßige Leerzeichen verwendet, sondern ein *Tabulator* (`\\t`). Ebenso wurde für einen *Zeilenumbruch* (engl. *newline*; `\\n`) gesorgt. Möchte man statt einer Ausgabe ein neues Objekt erzeugen, so verwendet man `paste()`."
   ]
  },
  {
   "cell_type": "code",
   "execution_count": null,
   "metadata": {},
   "outputs": [],
   "source": [
    "dateien <- paste(\"Datei\",1:3,\".txt\", sep=\"\")\n",
    "dateien"
   ]
  },
  {
   "cell_type": "code",
   "execution_count": null,
   "metadata": {},
   "outputs": [],
   "source": [
    "# Aufteilung in Name und Endung\n",
    "strsplit(dateien[1],\"[.]\")"
   ]
  },
  {
   "cell_type": "markdown",
   "metadata": {},
   "source": [
    "Hier ist zu *beachten*, dass es sich bei der Zeichenfolge, anhand derer getilt werden soll, um einen [*regulären Ausdruck*](https://de.wikipedia.org/wiki/Regul%C3%A4rer_Ausdruck) handelt. Dabei ist der Punkt ein *Metazeichen*, welcher innerhalb der durch die eckigen Klammern getroffenen *Zeichenauswahl* seine ursprüngliche Bedeutung erhält. Dies wird auch explizit in der Hilfe zu `?strsplit` aufgegriffen."
   ]
  },
  {
   "cell_type": "code",
   "execution_count": null,
   "metadata": {},
   "outputs": [],
   "source": [
    "?strsplit"
   ]
  },
  {
   "cell_type": "code",
   "execution_count": null,
   "metadata": {},
   "outputs": [],
   "source": [
    "# regulären Ausdruck suchen\n",
    "grep(\"2\", dateien)  # Ausgabe des Elements, in dem regexp gefunden wurde"
   ]
  },
  {
   "cell_type": "code",
   "execution_count": null,
   "metadata": {},
   "outputs": [],
   "source": [
    "grep(\"ei\", dateien)  # Ausgabe der Elemente, in denen regexp gefunden wurde"
   ]
  },
  {
   "cell_type": "code",
   "execution_count": null,
   "metadata": {},
   "outputs": [],
   "source": [
    "# Ersetzung von \"txt\" durch \"csv\"\n",
    "sub(\"txt\",\"csv\",dateien)"
   ]
  },
  {
   "cell_type": "code",
   "execution_count": null,
   "metadata": {},
   "outputs": [],
   "source": [
    "# überschrieben wurde nicht!\n",
    "dateien"
   ]
  },
  {
   "cell_type": "code",
   "execution_count": null,
   "metadata": {},
   "outputs": [],
   "source": [
    "# so wird überschrieben!\n",
    "dateien <- sub(\"txt\",\"csv\",dateien)"
   ]
  },
  {
   "cell_type": "code",
   "execution_count": null,
   "metadata": {},
   "outputs": [],
   "source": [
    "toupper(dateien)"
   ]
  },
  {
   "cell_type": "markdown",
   "metadata": {},
   "source": [
    "**Bemerkung:** In Python sind die entsprechenden Funktionalitäten als *Methoden der String-Objekte* implementiert. Hat man etwa die Zeichenkette `zk`, so würde man aufsplitten mittels `zk.split()` oder in Großbuchstaben wandeln mittels `zk.upper()`."
   ]
  },
  {
   "cell_type": "markdown",
   "metadata": {},
   "source": [
    "#### parse\n",
    "Diese Funktion eröffnet die Möglichkeit, *berechnete Variablen* zur Laufzeit zu erzeugen, wenn man möchte (ob das gut ist, muss jeder selbst entscheiden). Man kann mit Hilfe von `parse()` einen *Ausdruck* erzeugen und diesen dann auswerten, als habe man ihn direkt eingegeben. Das folgende Beispiel verdeutlichet die Funktionsweise."
   ]
  },
  {
   "cell_type": "code",
   "execution_count": null,
   "metadata": {},
   "outputs": [],
   "source": [
    "(ep <- parse(text = \"neueVariable <- 9\"))"
   ]
  },
  {
   "cell_type": "code",
   "execution_count": null,
   "metadata": {},
   "outputs": [],
   "source": [
    "# Ausdruck auswerten\n",
    "eval(ep)"
   ]
  },
  {
   "cell_type": "code",
   "execution_count": null,
   "metadata": {},
   "outputs": [],
   "source": [
    "# neue Variable existiert und hat den Wert 9\n",
    "neueVariable"
   ]
  },
  {
   "cell_type": "markdown",
   "metadata": {},
   "source": [
    "#### Anführungszeichen\n",
    "Will man Anführungszeichen innerhalb einer Zeichenkette haben, so muss man zwischen einfachen und doppelten Anführungszeichen wechseln oder den *Bsckslash* (`\\`) zum escapen verwenden. Man hat also folgende Möglichkeiten:"
   ]
  },
  {
   "cell_type": "code",
   "execution_count": null,
   "metadata": {},
   "outputs": [],
   "source": [
    "(zk = \"'str' in str\")\n",
    "print(zk)"
   ]
  },
  {
   "cell_type": "code",
   "execution_count": null,
   "metadata": {},
   "outputs": [],
   "source": [
    "(zk = \"\\\"str\\\" in str\")\n",
    "print(zk)"
   ]
  },
  {
   "cell_type": "code",
   "execution_count": null,
   "metadata": {},
   "outputs": [],
   "source": [
    "(zk = '\"str\" in str')\n",
    "print(zk)"
   ]
  },
  {
   "cell_type": "code",
   "execution_count": null,
   "metadata": {},
   "outputs": [],
   "source": [
    "(zk = '\\'str\\' in str')\n",
    "print(zk)"
   ]
  },
  {
   "cell_type": "markdown",
   "metadata": {},
   "source": [
    "#### Ungewöhnliche Objektnamen\n",
    "Unter Zuhilfenahme von rückwärtsgerichteten Anführungszeichen (*Backticks*; \\`) lassen sich beliebige Objektnamen vergeben, was aber unbedingt zu vermeiden ist. Wir werden nun der Variablen \"`Das ist nicht gut auch wegen des ö!?* 1/2`\" den Wert 5 zuweisen und anschließend damit rechnen:"
   ]
  },
  {
   "cell_type": "code",
   "execution_count": null,
   "metadata": {},
   "outputs": [],
   "source": [
    "(`Das ist nicht gut auch wegen des ö!?* 1/2` <- 5)"
   ]
  },
  {
   "cell_type": "code",
   "execution_count": null,
   "metadata": {},
   "outputs": [],
   "source": [
    "`Das ist nicht gut auch wegen des ö!?* 1/2` - 3"
   ]
  },
  {
   "cell_type": "markdown",
   "metadata": {},
   "source": [
    "Dennoch ist es nützlich, dies zu wissen, da es im Zusammenhang mit dem Laden von Datensätzen vorkommen kann, dass Spalten Namen haben, auf die man dann nur auf diese Art zugreifen kann."
   ]
  },
  {
   "cell_type": "markdown",
   "metadata": {},
   "source": [
    "## Datum und Zeit\n",
    "In sehr vielen Analysen gibt es eine Zeitdimension, so dass ein Analysewerkzeug mit Zeitangaben umgehen können muss. Dabei gibt es einige Herausforderungen wie beispielsweise Zeitzonen, Sommer-/Winterzeit und vor allem auch regionale Unterschiede in der *Darstellung* von Datum und Uhrzeit. So ist nicht von vornherein klar, wie etwa die folgende *Datumsangabe* zu interpretieren ist: 06/09/12\n",
    "1. Es könnte ich nach deutscher Lesart um den 6. September 2012 hndeln\n",
    "2. Ein Amerikaner würde wohl denken, es handle sich um dem 9. Juni 2012\n",
    "3. Ein nach ISO-Norm arbeitender Computer würde daraus den 12. September 2006 lesen\n",
    "\n",
    "Bei *Zeitangaben* ist es zwar meist klar, wie diese zu interpretieren sind, aber es gibt eben sehr unterschiedliche Formate (man denke nur an die im angelsächsichen Sprachraum gebräuchliche 12-Stunden-Darstellung unter Hinzufügen von `a.m.` (ante meridies = Vormittag = vor 12 Uhr mittags) und `p.m.?` (post meridies = Nachmittag = nach 12 Uhr mittags). Einen Überblick findet man in den entsprechenden Artikeln bei Wikipedia zu [Datumsangaben](https://de.wikipedia.org/wiki/Datumsformat) und [Schreibweisen von Uhrzeiten](https://de.wikipedia.org/wiki/Uhrzeit#Schreibweise).\n",
    "\n",
    "Eine kurze Einführung zum Umgang von R mit Datum und Zeit findet man am im [Gnu R Wikibook](https://de.wikibooks.org/wiki/GNU_R:_Datum-_und_Zeitfunktionen). Wir betrachten ein ähnliches Beispiel, welches aber außerdem zeigt, dass die zum Parsen der Zeichenketten mit den Zeitangaben verwendete Funktion `strptime()` auch mit deutschen Monatsnamen umgehen kann und außerdem die Umstellung von Winter- auf Sommerzeit berücksichtigt."
   ]
  },
  {
   "cell_type": "code",
   "execution_count": null,
   "metadata": {},
   "outputs": [],
   "source": [
    "# Zeitangaben als Zeichenketten\n",
    "zeiten <- c(\"17. Mär 2017 14:00\", \"24. Mär 2017 15:45\", \"31. Mär 2017 17:15\")\n",
    "str(zeiten)"
   ]
  },
  {
   "cell_type": "markdown",
   "metadata": {},
   "source": [
    "Die Elemente des Vektors `zeiten` sind also *Zeichenketten*."
   ]
  },
  {
   "cell_type": "code",
   "execution_count": null,
   "metadata": {},
   "outputs": [],
   "source": [
    "(zeitenParsed <- strptime(zeiten, format=\"%d. %b %Y %R\"))"
   ]
  },
  {
   "cell_type": "code",
   "execution_count": null,
   "metadata": {},
   "outputs": [],
   "source": [
    "str(zeitenParsed)"
   ]
  },
  {
   "cell_type": "markdown",
   "metadata": {},
   "source": [
    "Die Elemente des Vektors `zeitenParsed` sind also *POSIX Zeitangaben*."
   ]
  },
  {
   "cell_type": "markdown",
   "metadata": {},
   "source": [
    "Genauere Informationen zur Funktion `strptime()` erhält man wieder über die eingebaute Hilfeseite. Hier lohnt sich insbesndere ein Blick auf die Möglichkeiten, die der Parameter `format` bietet (während man sich erst einmal nicht darum kümmern muss, was genau S3 bzw. S4 Klassen sind :smile:).\n",
    "\n",
    "Weitere nützliche Funktionen sind `ISOdate(Jahr,Monat,Tag,Stunde,Minute,Sekunde)` zur einfachen Definition eines Datums sowie `Sys.time()` zur Ermittlung des aktuellen Datums und `difftime()` zur Berechnung von Zeitintervallen."
   ]
  },
  {
   "cell_type": "code",
   "execution_count": null,
   "metadata": {},
   "outputs": [],
   "source": [
    "# Zeitpunkt des Mauerfalls\n",
    "(mauerfall <- ISOdate(1989,11,09,18,57, tz=\"CET\"))"
   ]
  },
  {
   "cell_type": "code",
   "execution_count": null,
   "metadata": {},
   "outputs": [],
   "source": [
    "# Aktuelle Zeit\n",
    "(jetzt <- Sys.time())"
   ]
  },
  {
   "cell_type": "code",
   "execution_count": null,
   "metadata": {},
   "outputs": [],
   "source": [
    "vergangeneZeit <- jetzt-mauerfall\n",
    "str(vergangeneZeit)"
   ]
  },
  {
   "cell_type": "code",
   "execution_count": null,
   "metadata": {},
   "outputs": [],
   "source": [
    "as.numeric(vergangeneZeit, units=\"hours\")"
   ]
  },
  {
   "cell_type": "code",
   "execution_count": null,
   "metadata": {},
   "outputs": [],
   "source": [
    "as.numeric(vergangeneZeit, units=\"days\")"
   ]
  },
  {
   "cell_type": "code",
   "execution_count": null,
   "metadata": {},
   "outputs": [],
   "source": [
    "cat('Seit dem Mauerfall sind ',length(seq(mauerfall,jetzt,\"months\"))-1,' volle Monate vergangen')"
   ]
  },
  {
   "cell_type": "code",
   "execution_count": null,
   "metadata": {},
   "outputs": [],
   "source": [
    "cat('Seit dem Mauerfall sind ',length(seq(mauerfall,jetzt,\"years\"))-1,' volle Jahree vergangen')"
   ]
  },
  {
   "cell_type": "markdown",
   "metadata": {},
   "source": [
    "Dies beschließt die Einführung in die wichtigsten Grundlagen von R, wobei die Stärken von R natürlich in den umfangreichen *statistischen Funktionalitäten* inkl. *grafischer Ausgabe* liegen. Diese Themen werden später aufgegriffen, nachdem ebenfalls später der Umgang mit *(externen) Datenquellen* betrachtet wurde."
   ]
  },
  {
   "cell_type": "code",
   "execution_count": null,
   "metadata": {},
   "outputs": [],
   "source": []
  }
 ],
 "metadata": {
  "kernelspec": {
   "display_name": "R",
   "language": "R",
   "name": "ir"
  },
  "language_info": {
   "codemirror_mode": "r",
   "file_extension": ".r",
   "mimetype": "text/x-r-source",
   "name": "R",
   "pygments_lexer": "r",
   "version": "3.5.1"
  }
 },
 "nbformat": 4,
 "nbformat_minor": 2
}
