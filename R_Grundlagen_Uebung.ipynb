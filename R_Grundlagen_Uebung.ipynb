{
 "cells": [
  {
   "cell_type": "markdown",
   "metadata": {},
   "source": [
    "# Übungen zu R Grundlagen\n",
    "> Diese Übungen stammen zum Teil aus [dem Think Python Lehrbuch](http://greenteapress.com/wp/think-python-2e)\n",
    ">\n",
    "> **Zu Beachten:** *Die Aufgabenstellung gehört zur Lösung dazu!*"
   ]
  },
  {
   "cell_type": "markdown",
   "metadata": {},
   "source": [
    "# Bearbeiten Sie die [Aufgaben zu Kapitel 1](http://greenteapress.com/thinkpython2/html/thinkpython2002.html#sec14) (*übertragen auf R*)"
   ]
  },
  {
   "cell_type": "code",
   "execution_count": null,
   "metadata": {
    "collapsed": true
   },
   "outputs": [],
   "source": []
  },
  {
   "cell_type": "markdown",
   "metadata": {},
   "source": [
    "# Bearbeiten Sie die [Aufgaben zu Kapitel 2](http://greenteapress.com/thinkpython2/html/thinkpython2003.html#sec25) (*übertragen auf R*)\n",
    "\n",
    "> Wie Allen B. Downey schon sagt: Wenn man ein neues Feature kennen lernt, dann sollte man es interaktiv ausprobieren und etwa auch mit Absicht Fehler machen, um zu sehen, was passiert!"
   ]
  },
  {
   "cell_type": "code",
   "execution_count": null,
   "metadata": {
    "collapsed": true
   },
   "outputs": [],
   "source": []
  },
  {
   "cell_type": "markdown",
   "metadata": {},
   "source": [
    "# Bearbeiten Sie die folgenden Aufgaben\n",
    "> **Nützlich** könnte dabei das Kommando zum *Aufspalten* von Zellen sein (<tt>[Strg]+[Umschalt]+[-]</tt>), um die Lösung zu den jeweiligen Teilaufgaben direkt nach der Aufgabenstellung zu platzieren."
   ]
  },
  {
   "cell_type": "markdown",
   "metadata": {},
   "source": [
    "## Aufgabe 1 - Vektoren\n",
    "1.  Informieren Sie sich in der Hilfe durch Eintippen von <tt>?seq</tt> bzw. <tt>?rep</tt> über diese Funktionen und erzeugen Sie die folgenden Vektoren mittels einer der beiden genannten Funktionen:\n",
    "$$ \\vec a = \\left(\\begin{array}{c} 3\\\\3\\\\3\\\\4\\\\4\\\\4\\\\5\\\\5\\\\5\\end{array}\\right)\n",
    "  \\qquad , \\qquad\n",
    "   \\vec b = \\left(\\begin{array}{c} 2\\\\8\\\\14\\\\20\\\\26\\\\32\\end{array}\\right)\n",
    "  \\qquad , \\qquad\n",
    "   \\vec c = \\left(\\begin{array}{c} 17\\\\42\\\\17\\\\42\\\\17\\\\42\\end{array}\\right)\n",
    "$$\n",
    "2. Geben Sie drei verschiedene Möglichkeiten an, den Vektor\n",
    "$$ \\vec d = \\left(\\begin{array}{c} 3\\\\4\\\\5\\\\3\\\\4\\\\5\\\\3\\\\4\\\\5\\end{array}\\right)\n",
    "$$\n",
    "zu erzeugen.\n",
    "3. Erzeugen Sie einen Vektor $x$ aus den Zahlen $7,8,9,\\dots,23,3,42$. Setzen Sie anschließend jedes fünfte Element von $x$ gleich 3.\n",
    "4. Setzen Sie jedes zweite und siebte Element von $x$ gleich seinem negativen Wert.\n",
    "5. Was passiert, wenn Sie die folgenden Befehle in R eingeben? Worin liegt bei dieser Addition die Besonderheit?\n",
    "> <tt> y <- 3:9 <br/> z <- c(2,3) <br/> y + z </tt>\n",
    "6. Was passiert, wenn Sie den folgenden Vektor mit der Zahl 9 multiplizieren?\n",
    "$$ \\vec u = \\left(\\begin{array}{c} 4\\\\5\\\\4\\\\5\\end{array}\\right)\n",
    "$$\n",
    "7. Gegeben seien die beiden Vektoren\n",
    "$$ \\vec v = \\left(\\begin{array}{c} 4\\\\6\\\\7\\\\7\\\\13\\\\3\\\\8\\end{array}\\right)\n",
    "  \\qquad \\text{und} \\qquad\n",
    "   \\vec w = \\left(\\begin{array}{c} 11\\\\2.5\\\\3\\\\7\\\\-5\\\\4.5\\\\9\\end{array}\\right)\n",
    "$$\n",
    "Erstellen  Sie  diese  beiden  Vektoren  in  R  und  berechnen  Sie  (u.a.  mit  Hilfe  der  Funktionen <tt>sum()</tt> und <tt>prod()</tt>) die folgenden Ausdrücke:\n",
    "$$\n",
    "\\begin{gather}\n",
    "\\sum_{i=1}^5\\exp(-v_i) \\tag{i}\\\\\n",
    "\\prod_{i=5}^7 \\frac{1}{|w_i|} \\tag{ii}\\\\\n",
    "\\sum_{i=3}^6(v_i+w_i) \\tag{iii}\\\\\n",
    "\\sum_{i=1}^7(v_i\\cdot w_i) \\tag{iv}\\\\\n",
    "\\end{gather}\n",
    "$$\n"
   ]
  },
  {
   "cell_type": "markdown",
   "metadata": {},
   "source": [
    "## Aufgabe 2 - Matrizen\n",
    "1.  Erzeugen Sie einen Vektor $x$ mit den 9 Zahlen 2,4,8,16,32,64,128,256,512.\n",
    "2.  Wandeln Sie $x$ in eine $3\\times3$-Matrix $X$ um, so dass diese Matrix *spaltenweise* aus den Elementen von $x$ aufgebaut wird.\n",
    "3.  Ersetzen Sie die Elemente auf der Hauptdiagonalen von $X$ durch Einsen.\n",
    "4.  Extrahieren Sie a) die zweite Zeile und b) das Element der dritten Zeile der zweiten Spalte der Matrix $X$.\n",
    "5.  Wiederholen Sie 4. mit der Option <tt>drop = FALSE</tt>. Worin unterscheiden sich die Ergebnisse von Aufgabenteil 4.?\n",
    "6.  Ersetzen Sie die Werte der dritten Spalte von $X$ durch die Zahlen 1,2,3.\n",
    "7.  Tauschen Sie die erste und die zweite Spalte von $X$ miteinander.\n",
    "8.  Ersetzen Sie diejenigen Elemente $x_{i,j}$ der Matrix $X$ durch $-x_{i,j}$, die gleich zwei oder drei sind.\n",
    "9.  Multiplizieren Sie die folgenden Matrizen elementweise:\n",
    "$$\n",
    "A = \\left(\\begin{matrix}\n",
    "3 & 5\\\\\n",
    "6 & 10\n",
    "\\end{matrix}\\right)\n",
    "\\qquad , \\qquad\n",
    "B = \\left(\\begin{matrix}\n",
    "2 & 2\\\\\n",
    "3 & 3\n",
    "\\end{matrix}\\right)\n",
    "$$\n",
    "10. Nun multiplizieren Sie die beiden Matrizen aus Teil 9. gemäß der üblichen Matrixmultiplikation."
   ]
  },
  {
   "cell_type": "markdown",
   "metadata": {},
   "source": [
    "## Aufgabe 3 - Listen\n",
    "\n",
    "|Bundesland  | Hauptstadt  |  Platz |  Flaeche (in qkm) |\n",
    "|------------|-------------|--------|:-----------------:|\n",
    "| Sachsen    | Duesseldorf | sieben | 34110 |\n",
    "| NRW        | Dresden     | zwoelf | 18420 |\n",
    "| Bayern     |             | drei   | 70550 |\n",
    "(Bei dem Listenelement *Platz* handelt es sich um die Platzierung in der Liste der größten Städte Deutschlands.)\n",
    "\n",
    "1. Erstellen Sie die obige Liste durch benannte Eingabe.\n",
    "2. Lassen Sie sich die Struktur Ihrer Liste anzeigen.\n",
    "3. Lassen Sie sich die Bundesländer und die Fläche ausgeben.\n",
    "4. Die Reihenfolge der Bundesländer ist falsch. Korrigieren Sie den Fehler.\n",
    "5. Tragen Sie die Hauptstadt von Bayern nachträglich in die Liste ein.\n",
    "6.  Fügen Sie nun noch das Listenelement **Einwohner** (in Millionen) mit den Ausprägungen \"17.6\", \"4.0\" und \"12.6\" als Zeichenkette hinzu.\n",
    "7.  Welche Datenstruktur würde für die hier angegebenen Daten besser passen?\n",
    "8.  Geben  Sie  3  Möglichkeiten  an,  wie  Sie  sich  die  zu  Bayern  gehörige  Fläche  ausgeben  lassen können."
   ]
  }
 ],
 "metadata": {
  "kernelspec": {
   "display_name": "R",
   "language": "R",
   "name": "ir"
  },
  "language_info": {
   "codemirror_mode": "r",
   "file_extension": ".r",
   "mimetype": "text/x-r-source",
   "name": "R",
   "pygments_lexer": "r",
   "version": "3.5.1"
  },
  "latex_envs": {
   "LaTeX_envs_menu_present": true,
   "autocomplete": true,
   "bibliofile": "biblio.bib",
   "cite_by": "apalike",
   "current_citInitial": 1,
   "eqLabelWithNumbers": true,
   "eqNumInitial": 1,
   "hotkeys": {
    "equation": "Ctrl-E",
    "itemize": "Ctrl-I"
   },
   "labels_anchors": false,
   "latex_user_defs": false,
   "report_style_numbering": false,
   "user_envs_cfg": false
  }
 },
 "nbformat": 4,
 "nbformat_minor": 2
}
